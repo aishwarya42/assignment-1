{
 "cells": [
  {
   "cell_type": "code",
   "execution_count": 55,
   "metadata": {},
   "outputs": [],
   "source": [
    "a=4\n",
    "b=6\n",
    "a=a+b\n",
    "b=a-b\n",
    "a=a-b"
   ]
  },
  {
   "cell_type": "code",
   "execution_count": 56,
   "metadata": {},
   "outputs": [
    {
     "data": {
      "text/plain": [
       "(6, 4)"
      ]
     },
     "execution_count": 56,
     "metadata": {},
     "output_type": "execute_result"
    }
   ],
   "source": [
    "a,b"
   ]
  },
  {
   "cell_type": "code",
   "execution_count": 4,
   "metadata": {},
   "outputs": [
    {
     "name": "stdout",
     "output_type": "stream",
     "text": [
      "enter the no to find the volume of sphere:\n",
      "3\n",
      "volume: 113.03999999999998\n"
     ]
    }
   ],
   "source": [
    "print(\"enter the no to find the volume of sphere:\")\n",
    "r=int(input())\n",
    "pi=3.14\n",
    "vol=4/3*pi*r*r*r\n",
    "print(\"volume:\",vol)"
   ]
  },
  {
   "cell_type": "code",
   "execution_count": 18,
   "metadata": {},
   "outputs": [
    {
     "name": "stdout",
     "output_type": "stream",
     "text": [
      "EVEN [2, 4, 6, 8, 10, 12, 14, 16, 18, 20, 22, 24, 26, 28, 30, 32, 34, 36, 38, 40, 42, 44, 46, 48, 50, 52, 54, 56, 58, 60, 62, 64, 66, 68, 70, 72, 74, 76, 78, 80, 82, 84, 86, 88, 90, 92, 94, 96, 98]\n",
      "ODD [1, 3, 5, 7, 9, 11, 13, 15, 17, 19, 21, 23, 25, 27, 29, 31, 33, 35, 37, 39, 41, 43, 45, 47, 49, 51, 53, 55, 57, 59, 61, 63, 65, 67, 69, 71, 73, 75, 77, 79, 81, 83, 85, 87, 89, 91, 93, 95, 97, 99]\n"
     ]
    }
   ],
   "source": [
    "a=0\n",
    "b=0\n",
    "x=[]\n",
    "y=[]\n",
    "for i in range(1,100):\n",
    "    if i%2==0:\n",
    "        x.append(i)\n",
    "    else:\n",
    "        y.append(i)\n",
    "    i+=1   \n",
    "print(\"EVEN\",x)\n",
    "print(\"ODD\",y)"
   ]
  },
  {
   "cell_type": "code",
   "execution_count": 7,
   "metadata": {},
   "outputs": [
    {
     "name": "stdout",
     "output_type": "stream",
     "text": [
      "enter coefficient of quadratic equation:\n",
      "1\n",
      "2\n",
      "3\n",
      "equation: 1 2 3\n",
      "roots are imaginary\n"
     ]
    }
   ],
   "source": [
    "print(\"enter coefficient of quadratic equation:\")\n",
    "a=int(input())\n",
    "b=int(input())\n",
    "c=int(input())\n",
    "print(\"equation:\" , a,b,c)\n",
    "d=b*b-4*a*c\n",
    "import math\n",
    "\n",
    "if d>=0:\n",
    "    root1=(-b+math.sqrt(d))/2*a\n",
    "    root2=(-b-math.sqrt(d))/2*a\n",
    "    print(\"roots are equal and real\",root1,root2)\n",
    "else:\n",
    "    print(\"roots are imaginary\")\n",
    "    "
   ]
  },
  {
   "cell_type": "code",
   "execution_count": 8,
   "metadata": {},
   "outputs": [
    {
     "name": "stdout",
     "output_type": "stream",
     "text": [
      "enter the number:\n",
      "12345685321\n",
      "number of digits: 11\n"
     ]
    }
   ],
   "source": [
    "print(\"enter the number:\")\n",
    "a=int(input())\n",
    "count=0\n",
    "while a>0:\n",
    "    a= a//10\n",
    "    count=count+1\n",
    "print(\"number of digits:\",count)\n"
   ]
  },
  {
   "cell_type": "code",
   "execution_count": 3,
   "metadata": {},
   "outputs": [
    {
     "name": "stdout",
     "output_type": "stream",
     "text": [
      "enter the number:\n",
      "12\n",
      "not prime\n"
     ]
    }
   ],
   "source": [
    "print(\"enter the number:\")\n",
    "a=int(input())\n",
    "if a>1:\n",
    "    for i in range(1,a):\n",
    "        if a%i==0:\n",
    "            print(\"not prime\")\n",
    "            break\n",
    "        else:\n",
    "            print(\"prime\")\n",
    "            break\n",
    "else:\n",
    "    print(\"not prime\")"
   ]
  },
  {
   "cell_type": "code",
   "execution_count": 10,
   "metadata": {},
   "outputs": [
    {
     "name": "stdout",
     "output_type": "stream",
     "text": [
      "enter the number:\n",
      "12\n",
      "numbers considered in the sum: 3\n",
      "numbers considered in the sum: 5\n",
      "numbers considered in the sum: 6\n",
      "numbers considered in the sum: 9\n",
      "numbers considered in the sum: 10\n",
      "sum: 33\n"
     ]
    }
   ],
   "source": [
    "print(\"enter the number:\")\n",
    "a=int(input())\n",
    "sum=0\n",
    "for i in range(1,a):\n",
    "    if i%5==0 or i%3==0:\n",
    "        sum=sum+i\n",
    "        print(\"numbers considered in the sum:\",i)\n",
    "print(\"sum:\",sum)"
   ]
  },
  {
   "cell_type": "code",
   "execution_count": 51,
   "metadata": {},
   "outputs": [
    {
     "name": "stdout",
     "output_type": "stream",
     "text": [
      "enter the number:5\n",
      "1 is not a multiple of 3 or 5\n",
      "2 is not a multiple of 3 or 5\n",
      "3 is a multiple , sum:  3\n",
      "4 is not a multiple of 3 or 5\n"
     ]
    }
   ],
   "source": [
    "a=int(input(\"enter the number:\"))\n",
    "sum=0\n",
    "for i in range(1,a):\n",
    "    if i%3==0 or i%5==0 and a<1000:\n",
    "        sum=sum+i\n",
    "        print(i,\"is a multiple , sum: \", sum)\n",
    "    else:\n",
    "        print(i,\"is not a multiple of 3 or 5\")"
   ]
  },
  {
   "cell_type": "code",
   "execution_count": 70,
   "metadata": {},
   "outputs": [],
   "source": [
    "def add(a):\n",
    "    sum=0\n",
    "    for i in range(1,a):\n",
    "        sum=sum+i\n",
    "    print(\"sum \",sum)\n",
    "def product(a):\n",
    "        product=1\n",
    "        for i in range(1,a):\n",
    "                product=product*i\n",
    "        print(\"product \",product)        \n",
    "  \n"
   ]
  },
  {
   "cell_type": "code",
   "execution_count": 71,
   "metadata": {},
   "outputs": [
    {
     "name": "stdout",
     "output_type": "stream",
     "text": [
      "enter a number: \n",
      "a=12\n",
      "choose one of the following actions:\n",
      "1.add\n",
      "2.multiply\n",
      "1\n",
      "sum  66\n"
     ]
    }
   ],
   "source": [
    "print(\"enter a number: \")\n",
    "a=int(input(\"a=\"))\n",
    "print(\"choose one of the following actions:\")\n",
    "print(\"1.add\\n2.multiply\")\n",
    "c=int(input())\n",
    "if c==1:\n",
    "    add(a)\n",
    "else:\n",
    "    product(b)\n"
   ]
  },
  {
   "cell_type": "code",
   "execution_count": 32,
   "metadata": {},
   "outputs": [
    {
     "name": "stdout",
     "output_type": "stream",
     "text": [
      "enter the no in range 2000 to 3500:2814\n",
      "divisible only by 7!! so valid\n"
     ]
    }
   ],
   "source": [
    "a=int(input(\"enter the no in range 2000 to 3500:\"))\n",
    "if a>3500:\n",
    "    print(\"out of range!!\")\n",
    "else:\n",
    "    if a%7==0:\n",
    "        if a%5==0:\n",
    "            print(\"divisible by 7 and also 5!! so not valid\")\n",
    "        else:\n",
    "            print(\"divisible only by 7!! so valid\")\n",
    "        \n",
    "    else:\n",
    "        print(\"not divisible by 7\")\n",
    "            \n",
    "        "
   ]
  },
  {
   "cell_type": "code",
   "execution_count": 2,
   "metadata": {},
   "outputs": [
    {
     "name": "stdout",
     "output_type": "stream",
     "text": [
      "enter the string:\n",
      "aishwarya\n",
      "kashyap\n",
      "stop\n",
      "you entered stop!!\n"
     ]
    }
   ],
   "source": [
    "print(\"enter the string:\")\n",
    "str1=\"stop\"\n",
    "while True:\n",
    "    n=str(input())\n",
    "    if n==str1:\n",
    "        print(\"you entered stop!!\")\n",
    "        break \n",
    "        "
   ]
  },
  {
   "cell_type": "code",
   "execution_count": 76,
   "metadata": {},
   "outputs": [
    {
     "name": "stdout",
     "output_type": "stream",
     "text": [
      "enter the number:\n",
      "23\n",
      "2 is prime\n",
      "3 is prime\n",
      "5 is prime\n",
      "7 is prime\n",
      "11 is prime\n",
      "13 is prime\n",
      "17 is prime\n",
      "19 is prime\n"
     ]
    }
   ],
   "source": [
    "print(\"enter the number:\")\n",
    "n=int(input())\n",
    "if n>1:\n",
    "    if n==2 or n==3:\n",
    "        print(n,\"is prime\")\n",
    "    for i in range(2,n):\n",
    "        if i==2 or i==3:\n",
    "            print(i,\"is prime\")\n",
    "        if   n%i==0 or i%2==0 or i%3==0:\n",
    "            continue\n",
    "        else:\n",
    "            print(i,\"is prime\")\n",
    "            \n",
    "            "
   ]
  },
  {
   "cell_type": "code",
   "execution_count": 17,
   "metadata": {},
   "outputs": [],
   "source": [
    "\n",
    "def fact(n):\n",
    "    if n==0 or n==1:\n",
    "        return 1\n",
    "    else:\n",
    "        return n*fact(n-1)"
   ]
  },
  {
   "cell_type": "code",
   "execution_count": 20,
   "metadata": {},
   "outputs": [
    {
     "name": "stdout",
     "output_type": "stream",
     "text": [
      "enter the number to find the factorial:\n",
      "5\n"
     ]
    },
    {
     "data": {
      "text/plain": [
       "120"
      ]
     },
     "execution_count": 20,
     "metadata": {},
     "output_type": "execute_result"
    }
   ],
   "source": [
    "print(\"enter the number to find the factorial:\")\n",
    "n=int(input())\n",
    "fact(n)"
   ]
  },
  {
   "cell_type": "code",
   "execution_count": 46,
   "metadata": {},
   "outputs": [
    {
     "name": "stdout",
     "output_type": "stream",
     "text": [
      "enter the number to find fabonicci series\n",
      "5\n",
      "1\n"
     ]
    }
   ],
   "source": [
    "print(\"enter the number to find fabonicci series\")\n",
    "n=int(input())\n",
    "p=0\n",
    "n=1\n",
    "for i in range(n):\n",
    "    print(n)\n",
    "    p,n=n,n+p"
   ]
  },
  {
   "cell_type": "code",
   "execution_count": 1,
   "metadata": {},
   "outputs": [
    {
     "name": "stdout",
     "output_type": "stream",
     "text": [
      "enter the number:\n",
      "a=5\n",
      "1\n",
      "1\n",
      "2\n",
      "3\n",
      "5\n"
     ]
    }
   ],
   "source": [
    "print(\"enter the number:\")\n",
    "a=int(input(\"a=\"))\n",
    "p=0\n",
    "n=1\n",
    "for i in range(a):\n",
    "    print(n)\n",
    "    p,n=n,p+n\n",
    "    "
   ]
  },
  {
   "cell_type": "code",
   "execution_count": 10,
   "metadata": {},
   "outputs": [],
   "source": [
    "\n",
    "def gcd(a,b):\n",
    "    if a==0:\n",
    "        return b\n",
    "    else:\n",
    "        if a>b:\n",
    "            return b\n",
    "        else:\n",
    "            return a\n",
    "def lcm(a,b):\n",
    "    return (a*b)/gcd(a,b)\n",
    "\n"
   ]
  },
  {
   "cell_type": "code",
   "execution_count": 11,
   "metadata": {},
   "outputs": [
    {
     "name": "stdout",
     "output_type": "stream",
     "text": [
      "enter two numbers to find LCM:\n",
      "a=2\n",
      "b=4\n"
     ]
    },
    {
     "data": {
      "text/plain": [
       "4.0"
      ]
     },
     "execution_count": 11,
     "metadata": {},
     "output_type": "execute_result"
    }
   ],
   "source": [
    "print(\"enter two numbers to find LCM:\")\n",
    "a=int(input(\"a=\"))\n",
    "b=int(input(\"b=\"))\n",
    "lcm(a,b)"
   ]
  },
  {
   "cell_type": "code",
   "execution_count": 35,
   "metadata": {},
   "outputs": [],
   "source": [
    "def factors(n):\n",
    "    for i in range(1,n):\n",
    "        if n%i==0:\n",
    "            print(i) \n",
    "            "
   ]
  },
  {
   "cell_type": "code",
   "execution_count": 38,
   "metadata": {},
   "outputs": [
    {
     "name": "stdout",
     "output_type": "stream",
     "text": [
      "1\n",
      "2\n",
      "5\n"
     ]
    }
   ],
   "source": [
    "factors(10)"
   ]
  },
  {
   "cell_type": "code",
   "execution_count": 57,
   "metadata": {},
   "outputs": [
    {
     "name": "stdout",
     "output_type": "stream",
     "text": [
      "*       \n",
      "**       \n",
      "***       \n",
      "****       \n",
      "*****       \n"
     ]
    }
   ],
   "source": [
    "n=5\n",
    "for i in range(n):\n",
    "    print(\"*\"*(i+1),\" \"*(n+1))"
   ]
  },
  {
   "cell_type": "code",
   "execution_count": 66,
   "metadata": {},
   "outputs": [
    {
     "name": "stdout",
     "output_type": "stream",
     "text": [
      "******* \n",
      "******  \n",
      "*****   \n",
      "****    \n",
      "***     \n",
      "**      \n",
      "*       \n"
     ]
    }
   ],
   "source": [
    "n=7\n",
    "for i in range(n):\n",
    "    print(\"*\"*(n-i),\" \"*(i))"
   ]
  },
  {
   "cell_type": "code",
   "execution_count": 47,
   "metadata": {},
   "outputs": [
    {
     "name": "stdout",
     "output_type": "stream",
     "text": [
      "\n",
      "1 \n",
      "2 2 \n",
      "3 3 3 \n",
      "4 4 4 4 \n"
     ]
    }
   ],
   "source": [
    "n=5\n",
    "for i in range(n):\n",
    "    for j in range(i):\n",
    "        print(i,end=\" \")\n",
    "        j+=1\n",
    "    print(\"\")"
   ]
  },
  {
   "cell_type": "code",
   "execution_count": 22,
   "metadata": {},
   "outputs": [
    {
     "name": "stdout",
     "output_type": "stream",
     "text": [
      "\n",
      "1 \n",
      "2 3 \n",
      "4 5 6 \n",
      "7 8 9 10 \n"
     ]
    }
   ],
   "source": [
    "c=1\n",
    "n=5\n",
    "for i in range(n):\n",
    "    for j in range(1,i+1):\n",
    "        print(c,end=\" \")\n",
    "        c=c+1\n",
    "    print(\"\")"
   ]
  },
  {
   "cell_type": "code",
   "execution_count": 81,
   "metadata": {},
   "outputs": [
    {
     "name": "stdout",
     "output_type": "stream",
     "text": [
      "\n",
      "A \n",
      "B C \n",
      "D E F \n",
      "G H I J \n"
     ]
    }
   ],
   "source": [
    "n=65\n",
    "for i in range(5):\n",
    "    for j in range(1,i+1):\n",
    "        print(chr(n),end=\" \")\n",
    "        n+=1\n",
    "    print(\"\")"
   ]
  },
  {
   "cell_type": "code",
   "execution_count": 87,
   "metadata": {},
   "outputs": [
    {
     "name": "stdout",
     "output_type": "stream",
     "text": [
      "         * \n",
      "       * * * \n",
      "     * * * * * \n",
      "   * * * * * * * \n",
      " * * * * * * * * * \n"
     ]
    }
   ],
   "source": [
    "n=5\n",
    "for i in range(n):\n",
    "    print(\"  \"*(n-i-1),\"* \"*(2*i+1))"
   ]
  },
  {
   "cell_type": "code",
   "execution_count": 3,
   "metadata": {},
   "outputs": [
    {
     "name": "stdout",
     "output_type": "stream",
     "text": [
      "enter rhe number:\n",
      "a=2\n",
      "a+aa+aaa+aaaa+ = 30\n"
     ]
    }
   ],
   "source": [
    "print(\"enter rhe number:\")\n",
    "a=int(input(\"a=\"))\n",
    "for i in range(4):\n",
    "    print(\"a\"*(i+1),end=\"+\")\n",
    "a=a+a*a+a*a*a+a*a*a*a\n",
    "print(\" =\",a)    \n",
    "   "
   ]
  },
  {
   "cell_type": "code",
   "execution_count": null,
   "metadata": {},
   "outputs": [],
   "source": []
  },
  {
   "cell_type": "code",
   "execution_count": null,
   "metadata": {},
   "outputs": [],
   "source": []
  },
  {
   "cell_type": "code",
   "execution_count": null,
   "metadata": {},
   "outputs": [],
   "source": []
  }
 ],
 "metadata": {
  "kernelspec": {
   "display_name": "Python 3",
   "language": "python",
   "name": "python3"
  },
  "language_info": {
   "codemirror_mode": {
    "name": "ipython",
    "version": 3
   },
   "file_extension": ".py",
   "mimetype": "text/x-python",
   "name": "python",
   "nbconvert_exporter": "python",
   "pygments_lexer": "ipython3",
   "version": "3.7.3"
  }
 },
 "nbformat": 4,
 "nbformat_minor": 2
}
